{
 "cells": [
  {
   "cell_type": "markdown",
   "id": "sapphire-bikini",
   "metadata": {},
   "source": [
    "# Dictionary\n",
    "<hr>  \n",
    "\n",
    "### Syntax\n",
    "\n",
    "```julia \n",
    "variable = Dict(Key => Value)\n",
    "# or\n",
    "variable = Dict([(Key1, Value1), (Key2, Value2)])\n",
    "````\n",
    "\n",
    "Couple of points:\n",
    "1. Dictionaries are not ordered\n",
    "2. Mutable\n",
    "3. Adding an entity (similar to python): \n",
    "```julia\n",
    "variable[Key] = Value\n",
    "```\n",
    "4. Grabbing value associated with a key (similar to python):\n",
    "```julia\n",
    "variable[Key]\n",
    "```\n",
    "5. Pop: Returns the popped key's value and simultaneously deletes the entry\n",
    "```julia\n",
    "pop!(variable, Key)\n",
    "```\n",
    "6. Can't index into them as they are not ordered:\n",
    "```julia\n",
    "variable[1] --> Error\n",
    "```"
   ]
  },
  {
   "cell_type": "code",
   "execution_count": 6,
   "id": "designing-commodity",
   "metadata": {},
   "outputs": [
    {
     "data": {
      "text/plain": [
       "Dict{String, Int64} with 3 entries:\n",
       "  \"Age of Empires 2\" => 26\n",
       "  \"RDR 2\"            => 32\n",
       "  \"Dota 2\"           => 2735"
      ]
     },
     "execution_count": 6,
     "metadata": {},
     "output_type": "execute_result"
    }
   ],
   "source": [
    "# Method 1\n",
    "games = Dict(\"Dota 2\" => 2735, \"RDR 2\" => 32, \"Age of Empires 2\" => 26)\n",
    "games"
   ]
  },
  {
   "cell_type": "code",
   "execution_count": 7,
   "id": "technical-things",
   "metadata": {},
   "outputs": [
    {
     "data": {
      "text/plain": [
       "Dict{String, Int64} with 3 entries:\n",
       "  \"Age of Empires 2\" => 26\n",
       "  \"RDR 2\"            => 32\n",
       "  \"Dota 2\"           => 2735"
      ]
     },
     "execution_count": 7,
     "metadata": {},
     "output_type": "execute_result"
    }
   ],
   "source": [
    "# Method 2\n",
    "games = Dict([(\"Dota 2\", 2735), (\"RDR 2\", 32), (\"Age of Empires 2\", 26)])\n",
    "games"
   ]
  },
  {
   "cell_type": "code",
   "execution_count": 8,
   "id": "aging-priority",
   "metadata": {},
   "outputs": [
    {
     "data": {
      "text/plain": [
       "Dict{String, Int64} with 4 entries:\n",
       "  \"Age of Empires 2\" => 26\n",
       "  \"RDR 2\"            => 32\n",
       "  \"Wasteland 3\"      => 13\n",
       "  \"Dota 2\"           => 2735"
      ]
     },
     "execution_count": 8,
     "metadata": {},
     "output_type": "execute_result"
    }
   ],
   "source": [
    "games[\"Wasteland 3\"] = 13\n",
    "games"
   ]
  },
  {
   "cell_type": "code",
   "execution_count": 9,
   "id": "handed-israeli",
   "metadata": {},
   "outputs": [
    {
     "data": {
      "text/plain": [
       "13"
      ]
     },
     "execution_count": 9,
     "metadata": {},
     "output_type": "execute_result"
    }
   ],
   "source": [
    "games[\"Wasteland 3\"]"
   ]
  },
  {
   "cell_type": "code",
   "execution_count": 14,
   "id": "metric-auckland",
   "metadata": {},
   "outputs": [
    {
     "data": {
      "text/plain": [
       "13"
      ]
     },
     "execution_count": 14,
     "metadata": {},
     "output_type": "execute_result"
    }
   ],
   "source": [
    "pop!(games, \"Wasteland 3\")"
   ]
  },
  {
   "cell_type": "code",
   "execution_count": 15,
   "id": "dominican-blowing",
   "metadata": {},
   "outputs": [
    {
     "ename": "LoadError",
     "evalue": "KeyError: key 1 not found",
     "output_type": "error",
     "traceback": [
      "KeyError: key 1 not found",
      "",
      "Stacktrace:",
      " [1] getindex(h::Dict{String, Int64}, key::Int64)",
      "   @ Base .\\dict.jl:482",
      " [2] top-level scope",
      "   @ In[15]:1",
      " [3] eval",
      "   @ .\\boot.jl:360 [inlined]",
      " [4] include_string(mapexpr::typeof(REPL.softscope), mod::Module, code::String, filename::String)",
      "   @ Base .\\loading.jl:1094"
     ]
    }
   ],
   "source": [
    "games[1]"
   ]
  },
  {
   "cell_type": "markdown",
   "id": "israeli-emperor",
   "metadata": {},
   "source": [
    "# Tuples\n",
    "<hr>\n",
    "\n",
    "### Syntax\n",
    "```julia\n",
    "variable = (E1, E2, E3)\n",
    "```\n",
    "Couple of points:\n",
    "1. Accessing an Item:\n",
    "```julia\n",
    "variable[1] = E1\n",
    "```\n",
    "2. **Julia is 1 Indexed and not 0 Indexed like Python**\n",
    "3. Can't change values in places as Tuples are Immutable"
   ]
  },
  {
   "cell_type": "code",
   "execution_count": 16,
   "id": "casual-newark",
   "metadata": {},
   "outputs": [
    {
     "data": {
      "text/plain": [
       "(\"E1\", \"E2\", \"E3\")"
      ]
     },
     "execution_count": 16,
     "metadata": {},
     "output_type": "execute_result"
    }
   ],
   "source": [
    "set_of_items = (\"E1\", \"E2\", \"E3\")"
   ]
  },
  {
   "cell_type": "code",
   "execution_count": 17,
   "id": "equipped-composer",
   "metadata": {},
   "outputs": [
    {
     "data": {
      "text/plain": [
       "\"E1\""
      ]
     },
     "execution_count": 17,
     "metadata": {},
     "output_type": "execute_result"
    }
   ],
   "source": [
    "set_of_items[1]"
   ]
  },
  {
   "cell_type": "code",
   "execution_count": 20,
   "id": "amazing-minnesota",
   "metadata": {},
   "outputs": [
    {
     "ename": "LoadError",
     "evalue": "MethodError: no method matching setindex!(::Tuple{String, String, String}, ::String, ::Int64)",
     "output_type": "error",
     "traceback": [
      "MethodError: no method matching setindex!(::Tuple{String, String, String}, ::String, ::Int64)",
      "",
      "Stacktrace:",
      " [1] top-level scope",
      "   @ In[20]:1",
      " [2] eval",
      "   @ .\\boot.jl:360 [inlined]",
      " [3] include_string(mapexpr::typeof(REPL.softscope), mod::Module, code::String, filename::String)",
      "   @ Base .\\loading.jl:1094"
     ]
    }
   ],
   "source": [
    "set_of_items[1] = \"E4\""
   ]
  },
  {
   "cell_type": "markdown",
   "id": "planned-january",
   "metadata": {},
   "source": [
    "# Arrays\n",
    "<hr>\n",
    "\n",
    "### Syntax\n",
    "```julia\n",
    "variable = [E1, E2, E3]\n",
    "```\n",
    "Couple of Points:\n",
    "1. Mutable\n",
    "2. Ordered\n",
    "3. Can mix various data types\n",
    "4. Accessing value:\n",
    "```julia\n",
    "variable[1] -> E1\n",
    "```\n",
    "5. Changing a value:\n",
    "```julia\n",
    "variable[1] = E4 -> [E4, E2, E3]\n",
    "```\n",
    "6. Add item to array:\n",
    "```julia\n",
    "push!(variable, <Value>)\n",
    "push!(variable, E1) -> [E4, E2, E3, E1]\n",
    "```\n",
    "7. Delete Item:\n",
    "```julia\n",
    "pop!(variable) -> Pops last element\n",
    "```\n",
    "8. N-Dimension Arrays:\n",
    "```julia\n",
    "variable = [[X, Y, Z], [A, B, C]]\n",
    "```\n",
    "9. Generate Random values for array:\n",
    "```julia\n",
    "rand(4, 3) -> Generates a 4 X 3 Array\n",
    "rand(4, 3, 2) -> Generates a 4 X 3 X 2 Array\n",
    "```"
   ]
  },
  {
   "cell_type": "code",
   "execution_count": 21,
   "id": "surgical-campaign",
   "metadata": {},
   "outputs": [
    {
     "data": {
      "text/plain": [
       "3-element Vector{String}:\n",
       " \"E1\"\n",
       " \"E2\"\n",
       " \"E3\""
      ]
     },
     "execution_count": 21,
     "metadata": {},
     "output_type": "execute_result"
    }
   ],
   "source": [
    "items = [\"E1\", \"E2\", \"E3\"]\n",
    "items"
   ]
  },
  {
   "cell_type": "code",
   "execution_count": 22,
   "id": "polyphonic-telephone",
   "metadata": {},
   "outputs": [
    {
     "data": {
      "text/plain": [
       "4-element Vector{Any}:\n",
       "  \"E1\"\n",
       " 1\n",
       "  \"E3\"\n",
       " 3"
      ]
     },
     "execution_count": 22,
     "metadata": {},
     "output_type": "execute_result"
    }
   ],
   "source": [
    "items_mix = [\"E1\", 1, \"E3\", 3]\n",
    "items_mix"
   ]
  },
  {
   "cell_type": "code",
   "execution_count": 23,
   "id": "civic-moderator",
   "metadata": {},
   "outputs": [
    {
     "data": {
      "text/plain": [
       "\"E1\""
      ]
     },
     "execution_count": 23,
     "metadata": {},
     "output_type": "execute_result"
    }
   ],
   "source": [
    "items_mix[1]"
   ]
  },
  {
   "cell_type": "code",
   "execution_count": 24,
   "id": "micro-intellectual",
   "metadata": {},
   "outputs": [
    {
     "data": {
      "text/plain": [
       "\"E2\""
      ]
     },
     "execution_count": 24,
     "metadata": {},
     "output_type": "execute_result"
    }
   ],
   "source": [
    "items_mix[1] = \"E2\""
   ]
  },
  {
   "cell_type": "code",
   "execution_count": 25,
   "id": "genetic-blackberry",
   "metadata": {},
   "outputs": [
    {
     "data": {
      "text/plain": [
       "4-element Vector{Any}:\n",
       "  \"E2\"\n",
       " 1\n",
       "  \"E3\"\n",
       " 3"
      ]
     },
     "execution_count": 25,
     "metadata": {},
     "output_type": "execute_result"
    }
   ],
   "source": [
    "items_mix"
   ]
  },
  {
   "cell_type": "code",
   "execution_count": 26,
   "id": "bright-college",
   "metadata": {},
   "outputs": [
    {
     "data": {
      "text/plain": [
       "5-element Vector{Any}:\n",
       "  \"E2\"\n",
       " 1\n",
       "  \"E3\"\n",
       " 3\n",
       "  \"E4\""
      ]
     },
     "execution_count": 26,
     "metadata": {},
     "output_type": "execute_result"
    }
   ],
   "source": [
    "push!(items_mix, \"E4\")"
   ]
  },
  {
   "cell_type": "code",
   "execution_count": 27,
   "id": "relative-wilderness",
   "metadata": {},
   "outputs": [
    {
     "data": {
      "text/plain": [
       "\"E4\""
      ]
     },
     "execution_count": 27,
     "metadata": {},
     "output_type": "execute_result"
    }
   ],
   "source": [
    "pop!(items_mix)"
   ]
  },
  {
   "cell_type": "code",
   "execution_count": 28,
   "id": "subject-inspiration",
   "metadata": {},
   "outputs": [
    {
     "data": {
      "text/plain": [
       "4-element Vector{Any}:\n",
       "  \"E2\"\n",
       " 1\n",
       "  \"E3\"\n",
       " 3"
      ]
     },
     "execution_count": 28,
     "metadata": {},
     "output_type": "execute_result"
    }
   ],
   "source": [
    "items_mix"
   ]
  },
  {
   "cell_type": "code",
   "execution_count": 31,
   "id": "fuzzy-wrestling",
   "metadata": {},
   "outputs": [
    {
     "data": {
      "text/plain": [
       "3"
      ]
     },
     "execution_count": 31,
     "metadata": {},
     "output_type": "execute_result"
    }
   ],
   "source": [
    "pop!(items_mix)"
   ]
  },
  {
   "cell_type": "code",
   "execution_count": 32,
   "id": "accepting-child",
   "metadata": {},
   "outputs": [
    {
     "data": {
      "text/plain": [
       "2×2 Matrix{Float64}:\n",
       " 0.844054  0.745793\n",
       " 0.036135  0.759167"
      ]
     },
     "execution_count": 32,
     "metadata": {},
     "output_type": "execute_result"
    }
   ],
   "source": [
    "rand(2, 2)"
   ]
  },
  {
   "cell_type": "code",
   "execution_count": 33,
   "id": "foreign-egypt",
   "metadata": {},
   "outputs": [
    {
     "data": {
      "text/plain": [
       "4×3 Matrix{Float64}:\n",
       " 0.286161  0.427871  0.94748\n",
       " 0.715955  0.700902  0.272532\n",
       " 0.836983  0.718133  0.484928\n",
       " 0.268113  0.162644  0.0118929"
      ]
     },
     "execution_count": 33,
     "metadata": {},
     "output_type": "execute_result"
    }
   ],
   "source": [
    "rand(4, 3)"
   ]
  },
  {
   "cell_type": "code",
   "execution_count": 34,
   "id": "given-packaging",
   "metadata": {},
   "outputs": [
    {
     "data": {
      "text/plain": [
       "4×3×2 Array{Float64, 3}:\n",
       "[:, :, 1] =\n",
       " 0.426251  0.5363     0.570516\n",
       " 0.454132  0.688652   0.56006\n",
       " 0.379605  0.546685   0.726991\n",
       " 0.247003  0.0845368  0.76054\n",
       "\n",
       "[:, :, 2] =\n",
       " 0.355701  0.940456  0.879187\n",
       " 0.954407  0.782573  0.123679\n",
       " 0.553877  0.235814  0.912142\n",
       " 0.391221  0.200235  0.772894"
      ]
     },
     "execution_count": 34,
     "metadata": {},
     "output_type": "execute_result"
    }
   ],
   "source": [
    "rand(4, 3, 2)"
   ]
  },
  {
   "cell_type": "code",
   "execution_count": 36,
   "id": "velvet-momentum",
   "metadata": {},
   "outputs": [
    {
     "data": {
      "text/plain": [
       "2-element Vector{Vector{String}}:\n",
       " [\"X\", \"Y\", \"Z\"]\n",
       " [\"A\", \"B\", \"C\"]"
      ]
     },
     "execution_count": 36,
     "metadata": {},
     "output_type": "execute_result"
    }
   ],
   "source": [
    "TwoD_array = [[\"X\", \"Y\", \"Z\"], [\"A\", \"B\", \"C\"]]"
   ]
  },
  {
   "cell_type": "code",
   "execution_count": 42,
   "id": "based-subcommittee",
   "metadata": {},
   "outputs": [
    {
     "name": "stdout",
     "output_type": "stream",
     "text": [
      "Any[\"E2\", 1, \"E3\"]\n",
      "Any[2110, 1, \"E3\"]\n",
      "Any[2110, 1, \"E3\"]\n"
     ]
    }
   ],
   "source": [
    "# Copying\n",
    "println(items_mix)\n",
    "copied_array = items_mix\n",
    "copied_array[1] = 2110\n",
    "println(copied_array)\n",
    "println(items_mix)"
   ]
  },
  {
   "cell_type": "code",
   "execution_count": 43,
   "id": "arbitrary-calculator",
   "metadata": {},
   "outputs": [
    {
     "name": "stdout",
     "output_type": "stream",
     "text": [
      "Any[\"E2\", 1, \"E3\"]\n",
      "Any[2110, 1, \"E3\"]\n",
      "Any[\"E2\", 1, \"E3\"]\n"
     ]
    }
   ],
   "source": [
    "items_mix[1] = \"E2\"\n",
    "println(items_mix)\n",
    "\n",
    "copied_array = copy(items_mix)\n",
    "copied_array[1] = 2110\n",
    "println(copied_array)\n",
    "println(items_mix)"
   ]
  },
  {
   "cell_type": "markdown",
   "id": "intended-pressing",
   "metadata": {},
   "source": [
    "### Exercises\n",
    "\n",
    "Q 3.1 Create an array, `a_ray`, with the following code:\n",
    "```julia\n",
    "a_ray = [1, 2, 3]\n",
    "```\n",
    "Add the number `4` to the end of this array and then remove it."
   ]
  },
  {
   "cell_type": "code",
   "execution_count": 44,
   "id": "curious-modem",
   "metadata": {},
   "outputs": [
    {
     "data": {
      "text/plain": [
       "4-element Vector{Int64}:\n",
       " 1\n",
       " 2\n",
       " 3\n",
       " 4"
      ]
     },
     "execution_count": 44,
     "metadata": {},
     "output_type": "execute_result"
    }
   ],
   "source": [
    "a_ray = [1, 2, 3]\n",
    "push!(a_ray, 4)"
   ]
  },
  {
   "cell_type": "code",
   "execution_count": 45,
   "id": "addressed-prescription",
   "metadata": {},
   "outputs": [
    {
     "data": {
      "text/plain": [
       "4"
      ]
     },
     "execution_count": 45,
     "metadata": {},
     "output_type": "execute_result"
    }
   ],
   "source": [
    "pop!(a_ray)"
   ]
  },
  {
   "cell_type": "code",
   "execution_count": 46,
   "id": "mineral-desire",
   "metadata": {},
   "outputs": [
    {
     "data": {
      "text/plain": [
       "3-element Vector{Int64}:\n",
       " 1\n",
       " 2\n",
       " 3"
      ]
     },
     "execution_count": 46,
     "metadata": {},
     "output_type": "execute_result"
    }
   ],
   "source": [
    "a_ray"
   ]
  },
  {
   "cell_type": "markdown",
   "id": "declared-louisville",
   "metadata": {},
   "source": [
    "Q 3.2 Try to add \"Emergency\" as key to `myphonebook` with the value `string(911)` with the\n",
    "following code\n",
    "```julia\n",
    "myphonebook[\"Emergency\"] = 911\n",
    "```\n",
    "Why doesn't this work?"
   ]
  },
  {
   "cell_type": "code",
   "execution_count": 47,
   "id": "third-knowing",
   "metadata": {},
   "outputs": [
    {
     "data": {
      "text/plain": [
       "Dict{String, String} with 1 entry:\n",
       "  \"Emergency\" => \"911\""
      ]
     },
     "execution_count": 47,
     "metadata": {},
     "output_type": "execute_result"
    }
   ],
   "source": [
    "myphonebook = Dict(\"Emergency\" => string(911))"
   ]
  },
  {
   "cell_type": "markdown",
   "id": "accessible-authority",
   "metadata": {},
   "source": [
    "Q 3.3 Create a new dictionary called `flexible_phonebook` that has Jenny's number stored as an\n",
    "integer and Ghostbusters' number stored as a string with the following code\n",
    "```julia\n",
    "flexible_phonebook = Dict(\"Jenny\" => 8675309, \"Ghostbusters\" => \"555-2368\")\n",
    "```"
   ]
  },
  {
   "cell_type": "code",
   "execution_count": 48,
   "id": "twelve-yacht",
   "metadata": {},
   "outputs": [
    {
     "data": {
      "text/plain": [
       "Dict{String, Any} with 2 entries:\n",
       "  \"Jenny\"        => 8675309\n",
       "  \"Ghostbusters\" => \"555-2368\""
      ]
     },
     "execution_count": 48,
     "metadata": {},
     "output_type": "execute_result"
    }
   ],
   "source": [
    "flexible_phonebook = Dict(\"Jenny\" => 8675309, \"Ghostbusters\" => \"555-2368\")"
   ]
  },
  {
   "cell_type": "markdown",
   "id": "retired-comfort",
   "metadata": {},
   "source": [
    "Q 3.4 Add the key \"Emergency\" with the value `911` (an integer) to `flexible_phonebook`."
   ]
  },
  {
   "cell_type": "code",
   "execution_count": 49,
   "id": "broadband-composer",
   "metadata": {},
   "outputs": [
    {
     "data": {
      "text/plain": [
       "911"
      ]
     },
     "execution_count": 49,
     "metadata": {},
     "output_type": "execute_result"
    }
   ],
   "source": [
    "flexible_phonebook[\"Emergency\"] = 911"
   ]
  },
  {
   "cell_type": "markdown",
   "id": "amazing-illustration",
   "metadata": {},
   "source": [
    "Q 3.5 Why can we add an integer as a value to `flexible_phonebook` but not `myphonebook`? How\n",
    "could we have initialized `myphonebook` so that it would accept integers as values?"
   ]
  },
  {
   "cell_type": "code",
   "execution_count": null,
   "id": "compressed-youth",
   "metadata": {},
   "outputs": [],
   "source": []
  }
 ],
 "metadata": {
  "kernelspec": {
   "display_name": "Julia 1.6.0",
   "language": "julia",
   "name": "julia-1.6"
  },
  "language_info": {
   "file_extension": ".jl",
   "mimetype": "application/julia",
   "name": "julia",
   "version": "1.6.0"
  }
 },
 "nbformat": 4,
 "nbformat_minor": 5
}
